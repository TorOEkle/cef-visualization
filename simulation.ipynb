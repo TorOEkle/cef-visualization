{
 "cells": [
  {
   "cell_type": "markdown",
   "id": "8cf8ddc0",
   "metadata": {},
   "source": [
    "# Simulate data for education and earnings relationship\n",
    "\n",
    "This notebook simulates a dataset with two variables:\n",
    "- Years of education (ranging from 8 to 20 years)\n",
    "- Log weekly earnings (increases with education, with variation)\n",
    "\n",
    "The data will be saved to static/data.csv for visualization."
   ]
  },
  {
   "cell_type": "code",
   "execution_count": null,
   "id": "c15bdfdb",
   "metadata": {},
   "outputs": [],
   "source": [
    "import numpy as np\n",
    "import pandas as pd\n",
    "import matplotlib.pyplot as plt\n",
    "import seaborn as sns\n",
    "\n",
    "# Set random seed for reproducibility\n",
    "np.random.seed(42)"
   ]
  },
  {
   "cell_type": "markdown",
   "id": "ba6ba303",
   "metadata": {},
   "source": [
    "## Data Simulation\n",
    "\n",
    "We'll simulate 1000 observations with:\n",
    "- Years of education: From 8 to 20 years, randomly distributed\n",
    "- Log weekly earnings: Increasing with education, but with substantial variation\n",
    "\n",
    "The relationship will follow a model where each additional year of education increases log earnings by about 0.1, with noise added."
   ]
  },
  {
   "cell_type": "code",
   "execution_count": null,
   "id": "260301d0",
   "metadata": {},
   "outputs": [],
   "source": [
    "# Number of observations\n",
    "n = 1000\n",
    "\n",
    "# Generate years of education (between 8 and 20 years)\n",
    "years_of_education = np.random.randint(8, 21, size=n)\n",
    "\n",
    "# Parameters for the earnings model\n",
    "base_log_earnings = 5.5  # Base log earnings (for 0 years of education)\n",
    "education_effect = 0.12  # Effect of each year of education\n",
    "noise_scale = 0.3       # Standard deviation of the noise term\n",
    "\n",
    "# Generate log weekly earnings with noise\n",
    "# We'll add more noise for certain education levels to create interesting patterns\n",
    "noise = np.random.normal(0, noise_scale, size=n)\n",
    "# Add slightly more variation for some education levels\n",
    "noise = noise * (1 + 0.2 * np.sin(years_of_education * 0.7))\n",
    "\n",
    "# Calculate log weekly earnings\n",
    "log_weekly_earnings = base_log_earnings + education_effect * years_of_education + noise\n",
    "\n",
    "# Create a DataFrame\n",
    "df = pd.DataFrame({\n",
    "    'years_of_education': years_of_education,\n",
    "    'log_weekly_earnings': log_weekly_earnings\n",
    "})\n",
    "\n",
    "# Display the first few rows\n",
    "df.head()"
   ]
  },
  {
   "cell_type": "markdown",
   "id": "e34d6a9e",
   "metadata": {},
   "source": [
    "## Data Exploration\n",
    "\n",
    "Let's visualize the relationship between years of education and log weekly earnings."
   ]
  },
  {
   "cell_type": "code",
   "execution_count": null,
   "id": "4f32974a",
   "metadata": {},
   "outputs": [],
   "source": [
    "# Set up the plot style\n",
    "plt.figure(figsize=(10, 6))\n",
    "sns.set_style('whitegrid')\n",
    "\n",
    "# Create a scatter plot with jitter\n",
    "sns.regplot(x='years_of_education', y='log_weekly_earnings', data=df, \n",
    "           scatter_kws={'alpha': 0.4}, line_kws={'color': 'red'})\n",
    "\n",
    "# Add a boxplot to show the distribution at each education level\n",
    "plt.figure(figsize=(12, 7))\n",
    "sns.boxplot(x='years_of_education', y='log_weekly_earnings', data=df)\n",
    "\n",
    "# Add title and labels\n",
    "plt.title('Relationship between Education and Log Weekly Earnings', fontsize=16)\n",
    "plt.xlabel('Years of Education', fontsize=14)\n",
    "plt.ylabel('Log Weekly Earnings', fontsize=14)\n",
    "plt.xticks(fontsize=12)\n",
    "plt.yticks(fontsize=12)\n",
    "\n",
    "plt.tight_layout()\n",
    "plt.show()"
   ]
  },
  {
   "cell_type": "markdown",
   "id": "eee41f43",
   "metadata": {},
   "source": [
    "## Summary Statistics\n",
    "\n",
    "Let's calculate some summary statistics for our simulated data."
   ]
  },
  {
   "cell_type": "code",
   "execution_count": null,
   "id": "c063b1a5",
   "metadata": {},
   "outputs": [],
   "source": [
    "# Summary statistics\n",
    "print(\"Overall Summary:\")\n",
    "print(df.describe())\n",
    "\n",
    "# Summary by education level\n",
    "print(\"\\nSummary by Education Level:\")\n",
    "education_summary = df.groupby('years_of_education')['log_weekly_earnings'].agg(['mean', 'std', 'min', 'max', 'count'])\n",
    "print(education_summary)"
   ]
  },
  {
   "cell_type": "markdown",
   "id": "207174e5",
   "metadata": {},
   "source": [
    "## Save Data to CSV\n",
    "\n",
    "Now we'll save the simulated data to static/data.csv for use in visualizations."
   ]
  },
  {
   "cell_type": "code",
   "execution_count": null,
   "id": "004e9098",
   "metadata": {},
   "outputs": [],
   "source": [
    "# Calculate actual weekly earnings (exp of log earnings)\n",
    "df['weekly_earnings'] = np.exp(df['log_weekly_earnings'])\n",
    "\n",
    "# Add some additional metadata (for demonstrative purposes)\n",
    "df['id'] = np.arange(1, n+1)\n",
    "df['gender'] = np.random.choice(['Male', 'Female'], size=n)\n",
    "df['age'] = np.random.randint(25, 65, size=n)\n",
    "\n",
    "# Path to save the CSV file\n",
    "csv_path = 'static/data.csv'\n",
    "\n",
    "# Save the DataFrame to CSV\n",
    "df.to_csv(csv_path, index=False)\n",
    "\n",
    "print(f\"Data saved to {csv_path}\")\n",
    "print(f\"Total rows: {len(df)}\")\n",
    "print(f\"Columns: {', '.join(df.columns)}\")"
   ]
  }
 ],
 "metadata": {
  "kernelspec": {
   "display_name": "Python 3",
   "language": "python",
   "name": "python3"
  },
  "language_info": {
   "codemirror_mode": {
    "name": "ipython",
    "version": 3
   },
   "file_extension": ".py",
   "mimetype": "text/x-python",
   "name": "python",
   "nbconvert_exporter": "python",
   "pygments_lexer": "ipython3",
   "version": "3.11.5"
  }
 },
 "nbformat": 4,
 "nbformat_minor": 5
}
